{
 "cells": [
  {
   "cell_type": "markdown",
   "id": "b07771db",
   "metadata": {},
   "source": [
    "<center>\n",
    "\n",
    "# First Assignment of RT2 (Part Two: Jupyter Notebook)\n",
    "\n",
    "</center>"
   ]
  },
  {
   "cell_type": "markdown",
   "id": "a49a2ad2",
   "metadata": {},
   "source": [
    "### Import all the necessary libraries and initialization of the global variables"
   ]
  },
  {
   "cell_type": "code",
   "execution_count": null,
   "id": "d642a651",
   "metadata": {},
   "outputs": [],
   "source": [
    "# import all the necessary libraries\n",
    "%matplotlib notebook\n",
    "import tf\n",
    "import sys\n",
    "import rospy\n",
    "import select\n",
    "import actionlib\n",
    "import numpy as np\n",
    "import actionlib.msg\n",
    "import jupyros as jr\n",
    "import ipywidgets as widgets\n",
    "import assignment_2_2022.msg \n",
    "import matplotlib.pyplot as plt\n",
    "import matplotlib.animation as animation\n",
    "from std_srvs.srv import *\n",
    "from nav_msgs.msg import Odometry\n",
    "from sensor_msgs.msg import LaserScan\n",
    "from assignment_2_2022.msg import Pos_vel\n",
    "from matplotlib.animation import FuncAnimation\n",
    "from geometry_msgs.msg import Point, Pose, Twist\n",
    "from tf.transformations import quaternion_matrix\n",
    "from ipywidgets import Button, Layout, ButtonStyle, GridBox, VBox, HBox\n",
    "\n",
    "\n",
    "# initialize the node \n",
    "rospy.init_node('input_from_user')\n",
    "\n",
    "# initialize the publisher to send a msg (using the velocity and the position as parameters)\n",
    "pub = rospy.Publisher(\"/Position_velocity\", Pos_vel, queue_size = 1)\n",
    "\n",
    "# initialize the global variable necessary for the cell below\n",
    "actual_pos_x = 0\n",
    "actual_pos_y = 0\n",
    "delay_actual_pos = 0\n",
    "\n",
    "n_goal_deleted = 0\n",
    "n_goal_set = 0\n",
    "\n",
    "min_distance_obstacle = 0\n",
    "delay_min_distance_obstacle = 0"
   ]
  },
  {
   "cell_type": "markdown",
   "id": "4a73db48",
   "metadata": {},
   "source": [
    "### Client initialization for sending goals"
   ]
  },
  {
   "cell_type": "code",
   "execution_count": null,
   "id": "89e996ca",
   "metadata": {},
   "outputs": [],
   "source": [
    "# create the action client\n",
    "client = actionlib.SimpleActionClient('/reaching_goal', assignment_2_2022.msg.PlanningAction)\n",
    "# wait for the server to be started\n",
    "client.wait_for_server()"
   ]
  },
  {
   "cell_type": "markdown",
   "id": "1e425c98",
   "metadata": {},
   "source": [
    "### Plot of the robot's path and goals (set, reached, deleted) "
   ]
  },
  {
   "cell_type": "code",
   "execution_count": null,
   "id": "c5603073",
   "metadata": {},
   "outputs": [],
   "source": [
    "class Visualiser:\n",
    "    def __init__(self):\n",
    "        self.fig, self.ax = plt.subplots()\n",
    "        self.ln, = plt.plot([], [], 'mo')\n",
    "        self.x_data, self.y_data = [] , []\n",
    "    def plot_init(self):\n",
    "        self.ax.set_xlim(10, -10)\n",
    "        self.ax.set_ylim(10, -10)\n",
    "        self.ax.grid(True)\n",
    "        return self.ln\n",
    "    def odom_callback(self, msg):\n",
    "        self.y_data.append(msg.pose.pose.position.y)\n",
    "        self.x_data.append(msg.pose.pose.position.x)\n",
    "    def update_plot(self, frame):\n",
    "        self.ln.set_data(self.x_data, self.y_data)\n",
    "        return self.ln\n",
    "    def draw_point(self, x, y, color):\n",
    "        self.ax.plot(x, y, color, marker='X')\n",
    "    def add_legend(self):\n",
    "        legend_labels = ['Goal Deleted', 'Goal Reached', 'Next Goal']\n",
    "        colors = ['red', 'limegreen', 'dodgerblue']\n",
    "        legend_elements = [\n",
    "                            plt.Line2D([0], [0], marker='X', color=color, label=label, linestyle='None')\n",
    "                            for color, label in zip(colors, legend_labels)\n",
    "                          ]\n",
    "        self.ax.legend(handles=legend_elements)\n",
    "        \n",
    "print(\"PLOT OF THE ROBOT'S PATH AND GOALS (SET; REACHED, DELETED): \")\n",
    "vis = Visualiser()\n",
    "    \n",
    "rospy.Subscriber('/odom', Odometry, vis.odom_callback)\n",
    "ani = FuncAnimation(vis.fig, vis.update_plot, init_func=vis.plot_init)\n",
    "\n",
    "def goal_status_function(msg):\n",
    "    global positionX,positionY,vis\n",
    "    # get the status of the result from the message\n",
    "    status = msg.status.status\n",
    "\n",
    "    # if status is equal 2, the goal was deleted\n",
    "    if status == 2:\n",
    "        vis.draw_point(positionX.value, positionY.value, 'red')\n",
    "    # if status is equal 3, the goal was reached\n",
    "    elif status == 3:\n",
    "        vis.draw_point(positionX.value, positionY.value, 'limegreen')\n",
    "\n",
    "    \n",
    "sub_result = rospy.Subscriber('/reaching_goal/result', assignment_2_2022.msg.PlanningActionResult, goal_status_function)\n",
    "vis.add_legend()\n",
    "plt.show(block=True)"
   ]
  },
  {
   "cell_type": "markdown",
   "id": "2ad9dd7c",
   "metadata": {},
   "source": [
    "### Actual position of the robot (updated in real time)"
   ]
  },
  {
   "cell_type": "code",
   "execution_count": null,
   "id": "9255e808",
   "metadata": {},
   "outputs": [],
   "source": [
    "def publish_values(msg):\n",
    "    global delay_actual_pos\n",
    "    delay_actual_pos += 1\n",
    "    # get the postion from the message\n",
    "    pos = msg.pose.pose.position\n",
    "\n",
    "    # get the twist from the message\n",
    "    velocity = msg.twist.twist.linear\n",
    "\n",
    "    # create custom message (of the type corresponding to the file in the msg folder)\n",
    "    position_and_velocity = Pos_vel()\n",
    "\n",
    "    # assign the parameters of the custom message\n",
    "    position_and_velocity.x = pos.x\n",
    "    position_and_velocity.y = pos.y\n",
    "    position_and_velocity.velX = velocity.x\n",
    "    position_and_velocity.velY = velocity.y\n",
    "    \n",
    "    global actual_pos_x\n",
    "    global actual_pos_y\n",
    "    actual_pos_x = pos.x\n",
    "    actual_pos_y = pos.y\n",
    "    if delay_actual_pos >= 15:\n",
    "        text_box_actual_pos_x.value = f'{actual_pos_x:.6f}'\n",
    "        text_box_actual_pos_y.value = f'{actual_pos_y:.6f}'\n",
    "        delay_actual_pos = 0\n",
    "\n",
    "    # Publish the custom message\n",
    "    pub.publish(position_and_velocity)\n",
    "\n",
    "#subscribe to the topic /odom\n",
    "text_box_actual_pos_x = widgets.FloatText(description=\"Act pos x\", value=actual_pos_x, disabled=True, continuous_update=True)\n",
    "text_box_actual_pos_y = widgets.FloatText(description=\"Act pos y\", value=actual_pos_y, disabled=True, continuous_update=True)\n",
    "rospy.Subscriber(\"/odom\", Odometry, publish_values)\n",
    "print(\"ACTUAL POSITION OF THE ROBOT, UPDATED IN REAL TIME: \")\n",
    "display(text_box_actual_pos_x, text_box_actual_pos_y)"
   ]
  },
  {
   "cell_type": "markdown",
   "id": "6015f224",
   "metadata": {},
   "source": [
    "### Possibility to send or delete a goal using coordinates"
   ]
  },
  {
   "cell_type": "code",
   "execution_count": null,
   "id": "d01487ff",
   "metadata": {
    "scrolled": true
   },
   "outputs": [],
   "source": [
    "print(\"ENTER THE COORDINATES (x,y) BELOW THAT THE ROBOT MUST REACH\")\n",
    "positionX = widgets.FloatText(description = \"x\", layout=Layout(width='25%', align=\"center\", grid_area='pX'))\n",
    "positionY = widgets.FloatText(description = \"y\", layout=Layout(width='25%', align=\"center\", grid_area='pY'))\n",
    "send_btn = widgets.Button(description=\"Send Goal!\", button_style='primary', layout=Layout(width='25%', align=\"center\",\n",
    "grid_area='b1'), icon='check')\n",
    "canc_btn = widgets.Button(description=\"Cancel Goal!\", button_style='danger', layout=Layout(width='25%', align=\"center\",\n",
    "grid_area='b2'))\n",
    "box = VBox([HBox([positionX, positionY]), HBox([send_btn, canc_btn])])\n",
    "display(box)\n",
    "\n",
    "def send_goal_function(button):\n",
    "    global n_goal_set\n",
    "    global text_box_number_set_goal\n",
    "    # create the goal to send to the server\n",
    "    goal = assignment_2_2022.msg.PlanningGoal()\n",
    "    goal.target_pose.pose.position.x = positionX.value\n",
    "    goal.target_pose.pose.position.y = positionY.value\n",
    "    vis.draw_point(positionX.value, positionY.value, 'dodgerblue')\n",
    "    # send the goal to the action server\n",
    "    client.send_goal(goal)\n",
    "    n_goal_set += 1\n",
    "    text_box_number_set_goal.value = n_goal_set\n",
    "\n",
    "def deleted_goal_function(button):\n",
    "    global n_goal_deleted\n",
    "    global n_goal_set\n",
    "    global text_box_number_del_goal\n",
    "    if n_goal_set > n_goal_deleted:\n",
    "        client.cancel_goal()\n",
    "        n_goal_deleted += 1\n",
    "        text_box_number_del_goal.value = n_goal_deleted\n",
    "    \n",
    "def draw_pie_plot(valore1, valore2):\n",
    "    labels = ['Goal Set', 'Goal Deleted']\n",
    "    mycolors = [\"dodgerblue\", \"red\"]\n",
    "    sizes = [valore1, valore2]\n",
    "    fig, ax = plt.subplots()\n",
    "    ax.pie(sizes, labels=labels, autopct='%1.1f%%', startangle=90, colors = mycolors)\n",
    "    ax.axis('equal')\n",
    "    plt.title('Number of set and deleted goals')\n",
    "    plt.show()"
   ]
  },
  {
   "cell_type": "markdown",
   "id": "4ae0d989",
   "metadata": {},
   "source": [
    "### Number of set and deleted goals with their corresponding percentage pie plot"
   ]
  },
  {
   "cell_type": "code",
   "execution_count": null,
   "id": "c711288c",
   "metadata": {},
   "outputs": [],
   "source": [
    "text_box_number_set_goal = widgets.IntText(description=\"N° set goals\", value=n_goal_set, disabled=True)\n",
    "text_box_number_del_goal = widgets.IntText(description=\"N° del goals\", value=n_goal_deleted, disabled=True)\n",
    "\n",
    "interactive_plot = widgets.interactive(draw_pie_plot, valore1=text_box_number_set_goal, valore2=text_box_number_del_goal)\n",
    "display(interactive_plot)\n",
    "    \n",
    "send_btn.on_click(send_goal_function)\n",
    "canc_btn.on_click(deleted_goal_function)"
   ]
  },
  {
   "cell_type": "markdown",
   "id": "8cf61fae",
   "metadata": {},
   "source": [
    "### Distance from the nearest obstacle"
   ]
  },
  {
   "cell_type": "code",
   "execution_count": null,
   "id": "03af8674",
   "metadata": {
    "scrolled": true
   },
   "outputs": [],
   "source": [
    "text_box_rt_min_distance_obstacle = widgets.FloatText(description=\"\", value=min_distance_obstacle, disabled=True)\n",
    "text_box_act_min_distance_obstacle = widgets.FloatText(description=\"\", value=min_distance_obstacle, disabled=True)\n",
    "def min_obstacle_distance(msg):\n",
    "    global min_distance_obstacle\n",
    "    global delay_min_distance_obstacle \n",
    "    delay_min_distance_obstacle += 1\n",
    "    min_distance_obstacle = msg.ranges[0]\n",
    "    for i in msg.ranges:\n",
    "        if  delay_min_distance_obstacle >= 25 and i < min_distance_obstacle:\n",
    "            min_distance_obstacle = i\n",
    "            text_box_rt_min_distance_obstacle.value = f'{min_distance_obstacle:.6f}'\n",
    "            delay_min_distance_obstacle = 0\n",
    "\n",
    "rospy.Subscriber(\"/scan\", LaserScan, min_obstacle_distance)\n",
    "print(\"DISTANCE FROM THE NEAREST OBSTACLE, UPDATED IN REAL TIME: \")\n",
    "display(text_box_rt_min_distance_obstacle)\n",
    "print(\"CLICK THE BUTTON TO KNOW THE ISTANTANEOUS DISTANCE FROM THE NEAREST OBSTACLE: \")\n",
    "act_min_obstcale_distance_btn = widgets.Button(description=\"UPDATE MIN DISTANCE\", button_style='primary', \n",
    "                                               layout=Layout(width='25%', align=\"center\", grid_area='b3'))\n",
    "box2 = HBox([act_min_obstcale_distance_btn, text_box_act_min_distance_obstacle])\n",
    "display(box2)\n",
    "\n",
    "def update_actual_min_obstacle_distance_function(button):\n",
    "    text_box_act_min_distance_obstacle.value = f'{min_distance_obstacle:.6f}'\n",
    "\n",
    "act_min_obstcale_distance_btn.on_click(update_actual_min_obstacle_distance_function)"
   ]
  }
 ],
 "metadata": {
  "kernelspec": {
   "display_name": "Python 3 (ipykernel)",
   "language": "python",
   "name": "python3"
  },
  "language_info": {
   "codemirror_mode": {
    "name": "ipython",
    "version": 3
   },
   "file_extension": ".py",
   "mimetype": "text/x-python",
   "name": "python",
   "nbconvert_exporter": "python",
   "pygments_lexer": "ipython3",
   "version": "3.8.5"
  }
 },
 "nbformat": 4,
 "nbformat_minor": 5
}
